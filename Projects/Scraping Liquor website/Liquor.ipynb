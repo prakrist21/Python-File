{
 "cells": [
  {
   "cell_type": "code",
   "execution_count": 11,
   "metadata": {},
   "outputs": [],
   "source": [
    "import pandas as pd \n",
    "import seaborn as sns\n",
    "import requests \n",
    "from bs4 import BeautifulSoup\n",
    "import matplotlib.pyplot as plt\n",
    "import numpy as np"
   ]
  },
  {
   "cell_type": "code",
   "execution_count": 2,
   "metadata": {},
   "outputs": [],
   "source": [
    "main_df=None"
   ]
  },
  {
   "cell_type": "code",
   "execution_count": 3,
   "metadata": {},
   "outputs": [
    {
     "name": "stdout",
     "output_type": "stream",
     "text": [
      "[['Arna 6.4 Special Edition 330ML x 24 Bottles', '3960', 'Beer'], ['Arna 6.4 Special Edition 650ML x 12 Bottles', '3840', 'Beer'], ['Arna 6.4 Special Edition Bottle 330ML', '175', 'Beer'], ['Arna 6.4 Special Edition Bottle 650ML', '340', 'Beer'], ['Arna 8 Bottle 330ML', '180', 'Beer'], ['Arna 8 Bottle 330ML x 24 Bottles', '4075', 'Beer'], ['Arna 8 Bottle 650ML', '340', 'Beer'], ['Arna 8 Bottle 650ML x 12 Bottles', '3840', 'Beer'], ['Arna 8 Can 500ML', '270', 'Beer'], ['Arna 8 Can 500ML x 12 Cans', '3025', 'Beer'], ['Arna Extra Strong 330ML x 24 Bottles', '3840', 'Beer'], ['Arna Extra Strong 500ML x 12 Cans', '2910', 'Beer'], ['Arna Extra Strong 650ML x 12 Bottles', '3610', 'Beer'], ['Arna Extra Strong Bottle 330ML', '170', 'Beer'], ['Arna Extra Strong Bottle 650ML', '330', 'Beer'], ['Arna Extra Strong Can 500ML', '250', 'Beer'], ['Arna Light 330ML x 24 Bottles', '5355', 'Beer'], ['Arna Light 500ML x 12 Cans', '4075', 'Beer'], ['Arna Light 650ML x 12 Bottles', '5240', 'Beer'], ['Arna Light Bottle 330ML', '230', 'Beer'], ['Arna Light Bottle 650ML', '450', 'Beer'], ['Arna Light Can 500ML', '350', 'Beer'], ['Arna Premium 330ML x 24 Bottles', '4655', 'Beer'], ['Arna Premium 500ML x 12 Cans', '3490', 'Beer'], ['Arna Premium 650ML x 12 Bottles', '4655', 'Beer'], ['Arna Premium Bottle 330ML', '200', 'Beer'], ['Arna Premium Bottle 650ML', '400', 'Beer'], ['Arna Premium Can 500ML', '300', 'Beer'], ['Barahsinghe Craft 330ML Assorted - Pilsner, Belgian, Pale Ale, Hazy IPA (24N)', '5124', 'Beer'], ['Barahsinghe Craft 330ML Assorted - Pilsner, Dunkelweizen, Yaktoberfest, Hazy IPA', '5010', 'Beer'], ['Barahsinghe Craft 330ML Assorted - Pilsner, Pale Ale, Yaktoberfest, Hazy IPA', '5124', 'Beer'], ['Barahsinghe Craft 330ML Assorted- Pilsner, Belgian, Dunkelweizen, Hazy IPA (24N)', '5010', 'Beer'], ['Barahsinghe Craft 330ML Assorted- Pilsner, Belgian, Yaktoberfest, Hazy IPA (24N)', '5010', 'Beer'], ['Barahsinghe Craft 330ML Assorted- Pilsner, Dunkelweizen, Pale Ale, Hazy IPA(24N)', '5124', 'Beer'], ['Barahsinghe Craft Belgian Witbier 330ML x 24 Bottles', '4890', 'Beer'], ['Barahsinghe Craft Belgian Witbier Bottle 330ML', '210', 'Beer'], ['Barahsinghe Craft Dunkelweizen Dark Wheat 330ML x 24 Bottles', '4890', 'Beer'], ['Barahsinghe Craft Dunkelweizen Dark Wheat 650ML x 12 Bottles', '4775', 'Beer'], ['Barahsinghe Craft Dunkelweizen Dark Wheat Bottle 330ML', '210', 'Beer'], ['Barahsinghe Craft Dunkelweizen Dark Wheat Bottle 650ML', '410', 'Beer'], ['Barahsinghe Craft Hazy IPA 330ML x 24 Bottles', '5355', 'Beer'], ['Barahsinghe Craft Hazy IPA 650ML x 12 Bottles', '5295', 'Beer'], ['Barahsinghe Craft Hazy IPA Bottle 330ML', '230', 'Beer'], ['Barahsinghe Craft Hazy IPA Bottle 650ML', '455', 'Beer'], ['Barahsinghe Craft Maris Otter Pale Ale 330ML x 24 Bottles', '5355', 'Beer'], ['Barahsinghe Craft Maris Otter Pale Ale 650ML x 12 Bottles', '5295', 'Beer'], ['Barahsinghe Craft Maris Otter Pale Ale Bottle 330ML', '230', 'Beer'], ['Barahsinghe Craft Maris Otter Pale Ale Bottle 650ML', '455', 'Beer'], ['Barahsinghe Craft Pilsner 330ML x 24 Bottles', '4890', 'Beer'], ['Barahsinghe Craft Pilsner 500ML x 12 Cans', '3665', 'Beer']]\n",
      "[['100 Pipers 1L', '6245', 'Whisky'], ['Aberfeldy 12yrs 750ML', '9500', 'Whisky'], ['Aberlour 12yrs 1L', '12600', 'Whisky'], ['Aberlour 12yrs 700ML', '8475', 'Whisky'], ['Aberlour 18yrs 700ML', '24600', 'Whisky'], ['Antiquity Blue 750ML', '3040', 'Whisky'], ['Ardbeg 10yrs 700ML', '12000', 'Whisky'], ['Aristocrat Classic Nepalese Blend 750ML', '1240', 'Whisky'], ['Auchentoshan 12yrs 700ML', '9900', 'Whisky'], ['Auchentoshan 18yrs 700ML', '20300', 'Whisky'], ['Auchentoshan Three Wood 700ML', '13500', 'Whisky'], [\"Ballantine's 12yrs 1L\", '9160', 'Whisky'], [\"Ballantine's 12yrs 750ML\", '6945', 'Whisky'], [\"Ballantine's 17yrs 750ML\", '13250', 'Whisky'], [\"Ballantine's 21yrs 700ML\", '24000', 'Whisky'], [\"Ballantine's Finest 1L\", '7050', 'Whisky'], [\"Ballantine's Finest 2L\", '13150', 'Whisky'], [\"Ballantine's Finest 3L\", '22560', 'Whisky'], [\"Ballantine's Finest 500ML\", '3600', 'Whisky'], [\"Ballantine's Finest 750ML\", '5400', 'Whisky'], ['Bandipur 750ML', '5500', 'Whisky'], ['Baron Select 750ML', '960', 'Whisky'], ['Baron Select Extra Premium 750ML', '1200', 'Whisky'], [\"Barrhead's One 700ML\", '8055', 'Whisky'], ['Black Oak 750ML', '1400', 'Whisky'], ['Bowmore 12yrs 700ML', '10500', 'Whisky'], ['Bowmore 15yrs 700ML', '15000', 'Whisky'], ['Bowmore 18yrs 700ML', '22000', 'Whisky'], ['Bruichladdich The Classic Laddie 700ML', '13355', 'Whisky'], ['Buffalo Trace Kentucky Bourbon Whiskey 750ML', '8500', 'Whisky'], ['Bunnahabhain 12yrs 700ML', '11390', 'Whisky'], ['Bunnahabhain An Cladach 1L', '15380', 'Whisky'], ['Bunnahabhain Cruach Mhona 1L', '15380', 'Whisky'], ['Bunnahabhain Eirigh Na Greine 1L', '15380', 'Whisky'], ['Bushmills Irish Black Bush 700ML', '7205', 'Whisky'], ['Canadian Club Classic 12yrs 1L', '11500', 'Whisky'], ['Canadian Club Original 1L', '8800', 'Whisky'], ['Caol Ila 12yrs 750ML', '10300', 'Whisky'], ['Caperdonich 18yrs 700ML', '21000', 'Whisky'], ['Caperdonich 25yrs 700ML', '80000', 'Whisky'], ['Cardhu Malt 12yrs 1L', '11000', 'Whisky'], ['Chivas Regal 12yrs 1L', '9100', 'Whisky'], ['Chivas Regal 12yrs 2L', '17100', 'Whisky'], ['Chivas Regal 12yrs 4.5L', '46000', 'Whisky'], ['Chivas Regal 12yrs 500ML', '4700', 'Whisky'], ['Chivas Regal 12yrs 750ML', '6950', 'Whisky'], ['Chivas Regal 18yrs Gold Signature 1L', '18260', 'Whisky'], ['Chivas Regal 18yrs Gold Signature 200ML', '3860', 'Whisky'], ['Chivas Regal 18yrs Gold Signature 750ML', '13845', 'Whisky'], ['Chivas Regal 25yrs 700ML', '51100', 'Whisky']]\n"
     ]
    }
   ],
   "source": [
    "def scraping_liquors(url,type):\n",
    "# This function Scrapes cheers.com.np website and stores the required data into a dataset\n",
    "    global temp_df\n",
    "    global main_df\n",
    "    temp_df=None\n",
    "    page=requests.get(url)\n",
    "    soup=BeautifulSoup(page.text,'html')\n",
    "    name=soup.find_all(\"h5\",class_=\"title primary-color\")\n",
    "    beer_name=[x.text.strip() for x in name]\n",
    "    prices=soup.find_all(\"h4\",class_=\"price\")\n",
    "    price=[x.text.strip() for x in prices]\n",
    "    updated_price=[]\n",
    "    for x in price:\n",
    "        value = x.replace(\"Rs.\\xa0\", \"\").replace(\",\", \"\")\n",
    "        updated_price.append(value)\n",
    "    category_name=[type]*len(updated_price)\n",
    "    temp_df=pd.DataFrame(columns=['Name','Price','Category'])\n",
    "    main_lst = [[a, b, c] for a, b, c in zip(beer_name, updated_price, category_name)]\n",
    "    print(main_lst)\n",
    "    for m in main_lst:\n",
    "        l=len(temp_df)\n",
    "        temp_df.loc[l]=m\n",
    "    # print(temp_df)\n",
    "    if main_df is None:\n",
    "        main_df=temp_df.copy()\n",
    "    else:\n",
    "        main_df=pd.concat([main_df,temp_df],axis=0)\n",
    "\n",
    "\n",
    "# For Beer\n",
    "scraping_liquors('https://cheers.com.np/liquor/category?s=na&c=beer&sc%5B%5D=imported-beer&sc%5B%5D=domestic-beer&sc%5B%5D=beer-case&pf=&pt=&p=1&node=child','Beer')\n",
    "\n",
    "# For Whisky\n",
    "scraping_liquors('https://cheers.com.np/liquor/category?s=na&c=whisky&sc%5B%5D=regular-whisky&sc%5B%5D=premium-whisky&sc%5B%5D=american-bourbon-whisky&sc%5B%5D=single-malt-whisky&sc%5B%5D=domestic-whisky&pf=&pt=&p=1&node=child','Whisky')\n",
    "\n",
    "    \n"
   ]
  },
  {
   "cell_type": "code",
   "execution_count": 4,
   "metadata": {},
   "outputs": [
    {
     "name": "stdout",
     "output_type": "stream",
     "text": [
      "[['365 Days Vodka 750ML', '1080', 'Vodka'], ['8848 Rye Vodka x Tsherin Sherpa 750ML', '2350', 'Vodka'], ['8848 Vodka 180ML', '535', 'Vodka'], ['8848 Vodka 750ML', '2180', 'Vodka'], ['Absolut Apeach 1L', '6860', 'Vodka'], ['Absolut Blue 1L', '6650', 'Vodka'], ['Absolut Blue 750ML', '5050', 'Vodka'], ['Absolut Citron 1L', '6860', 'Vodka'], ['Absolut Elyx 1L', '11000', 'Vodka'], ['Absolut Grapefruit 1L', '6860', 'Vodka'], ['Absolut Juice Apple Edition 500ML', '4580', 'Vodka'], ['Absolut Juice Strawberry Edition 500ML', '4580', 'Vodka'], ['Absolut Mango 1L', '6860', 'Vodka'], ['Absolut Peppar 1L', '6860', 'Vodka'], ['Absolut Raspberri 1L', '6860', 'Vodka'], ['Absolut Vanilia 1L', '6860', 'Vodka'], ['Alexander Pure Grain Vodka 700ML', '7650', 'Vodka'], ['Belvedere Lake Bartezek Single Estate Rye 700ML', '9090', 'Vodka'], ['Belvedere Pure 700ML', '9000', 'Vodka'], ['Belvedere Smogory Forest Single Estate Rye 700ML', '9090', 'Vodka'], ['Ciroc Vodka 1L', '10600', 'Vodka'], ['Ciroc Vodka 750ML', '7900', 'Vodka'], ['Ciroc Vodka Apple 1L', '10600', 'Vodka'], ['Ciroc Vodka Coconut 1L', '10600', 'Vodka'], ['Ciroc Vodka Peach 1L', '10600', 'Vodka'], ['Ciroc Vodka Red Berry 1L', '10600', 'Vodka'], ['Crystal Head Vodka 750ML', '14110', 'Vodka'], ['Finlandia Regular 750ML', '4910', 'Vodka'], ['Grey Goose 1L', '13750', 'Vodka'], ['Grey Goose 750ML', '10315', 'Vodka'], ['Grey Wolf 750ML', '1180', 'Vodka'], ['Highlander Pure White 750ML', '1180', 'Vodka'], ['Ketel One Vodka 1L', '8600', 'Vodka'], ['Nude Superior Vodka 750ML', '2240', 'Vodka'], ['Reyka Vodka 700ML', '7795', 'Vodka'], ['Ruslan Premium 750ML', '2155', 'Vodka'], ['Seto Bagh Vodka 750ML', '2080', 'Vodka'], ['Silver Oak 750ML', '1180', 'Vodka'], ['SKYY Original 1L', '6995', 'Vodka'], ['SKYY Vodka 750ML (Bottled in Nepal)', '2400', 'Vodka'], ['Smirnoff Vodka 750ML (Bottled in Nepal)', '2200', 'Vodka'], ['Stolichnaya Gold 1L', '10245', 'Vodka'], ['Stolichnaya Original 1L', '8540', 'Vodka'], ['Suntory Haku Vodka 700ML', '8600', 'Vodka'], [\"Tito's Handmade 1L\", '10865', 'Vodka'], ['Uluvka Vodka 1L', '12485', 'Vodka'], ['Wyborowa Exquisite Vodka 750ML', '11000', 'Vodka'], ['Yeti Vodka 1L', '3000', 'Vodka'], ['Yeti Vodka 750ML', '2260', 'Vodka']]\n"
     ]
    }
   ],
   "source": [
    "# For Vodka\n",
    "scraping_liquors('https://cheers.com.np/liquor/category?s=na&c=vodka&sc%5B%5D=imported-vodka&sc%5B%5D=domestic-vodka&pf=&pt=&p=1&node=child','Vodka')"
   ]
  },
  {
   "cell_type": "code",
   "execution_count": 5,
   "metadata": {},
   "outputs": [
    {
     "name": "stdout",
     "output_type": "stream",
     "text": [
      "[['Barton London Extra Dry Gin 1L', '6250', 'Gin'], ['Beefeater London Dry Gin 1L', '6735', 'Gin'], ['Beefeater London Dry Gin 750ML', '5340', 'Gin'], ['Berries & Blues 750ML', '1260', 'Gin'], ['Blue Diamond 750ML', '1200', 'Gin'], ['Blue Riband Gin 750ML', '1760', 'Gin'], ['Bombay Bramble Distilled Gin 700ML', '11000', 'Gin'], ['Bombay Sapphire Distilled London Dry Gin 1L', '11825', 'Gin'], ['Bombay Sapphire Distilled London Dry Gin 750ML', '8875', 'Gin'], ['Bottega Bacur Distilled Dry Gin 700ML', '7650', 'Gin'], ['Bottega Bacur Green Gin The Wild Distilled Dry Gin 700ML', '7650', 'Gin'], ['Bulldog London Dry Gin 750ML', '6420', 'Gin'], ['Edinburgh Classic London Dry Gin 700ML', '7200', 'Gin'], [\"Gilbey's Special Dry Gin 1L\", '6550', 'Gin'], [\"Gordon's London Dry Gin 1L\", '6750', 'Gin'], ['Greater Than London Dry Gin 700ML', '5485', 'Gin'], ['Hapusa Himalayan Dry Gin 750ML', '7500', 'Gin'], [\"Hendrick's Gin 700ML\", '9610', 'Gin'], [\"Hendrick's Neptunia Gin 700ML\", '9610', 'Gin'], ['Larios London Dry Gin 700ML', '5500', 'Gin'], ['Larios Rose Gin 700ML', '5900', 'Gin'], ['London Hill London Dry Gin 700ML', '5200', 'Gin'], ['London Hill Premium Pink Gin 700ML', '5200', 'Gin'], ['Monkey 47 Schwarzwald Dry Gin 500ML', '9920', 'Gin'], ['Nordes Atlantic Galician Gin 700ML', '9500', 'Gin'], ['Samsara Contemporary Indian Coffee & Hazelnut Gin 750ML', '6500', 'Gin'], ['Samsara Contemporary Indian Grapefruit & Rose Gin 750ML', '6500', 'Gin'], ['Samsara Contemporary Indian Lemon & Elderflower Gin 750ML', '6500', 'Gin'], ['Samsara Contemporary Indian Pink Gin 750ML', '6500', 'Gin'], ['Samsara Contemporary Indian Regular Gin 750ML', '6500', 'Gin'], ['Sipsmith London Dry Gin 700ML', '8900', 'Gin'], ['Sipsmith London Sloe Gin 500ML', '7900', 'Gin'], ['Sipsmith London V.J.O.P. Gin 700ML', '11500', 'Gin'], ['Snowman Gin 750ML', '2400', 'Gin'], ['Suntory Roku Gin 700ML', '8600', 'Gin'], ['Tanqueray London Dry Gin 1L', '8200', 'Gin'], ['Tanqueray No. TEN Gin 1L', '11000', 'Gin'], ['Tenjaku Japanese Craft Gin 700ML', '7190', 'Gin'], ['The Botanist Islay Dry Gin 700ML', '9530', 'Gin'], ['Vogue Gin 750ML', '1200', 'Gin']]\n"
     ]
    }
   ],
   "source": [
    "#For Gin\n",
    "scraping_liquors('https://cheers.com.np/liquor/category?s=na&c=gin&sc%5B%5D=imported-gin&sc%5B%5D=domestic-gin&pf=&pt=&p=1&node=child','Gin')"
   ]
  },
  {
   "cell_type": "code",
   "execution_count": 6,
   "metadata": {},
   "outputs": [
    {
     "name": "stdout",
     "output_type": "stream",
     "text": [
      "[['365 Days Rum 750ML', '1195', 'Rum'], ['Angostura 3yrs Reserva Premium White Rum 700ML', '7700', 'Rum'], ['Angostura 5yrs Superior Gold Rum 700ML', '8050', 'Rum'], ['Bacardi Carta Blanca Superior White 1L', '8800', 'Rum'], ['Bacardi Carta Oro Superior Gold 1L', '9000', 'Rum'], ['Barton Gold Rum 1L', '6300', 'Rum'], ['Camikara 8yrs Cask Aged 700ML', '5600', 'Rum'], ['Captain Morgan Black 1L', '6800', 'Rum'], ['Captain Morgan Spiced Gold 1L', '6900', 'Rum'], ['Diplomatico Mantuano Rum 700ML', '7455', 'Rum'], ['Diplomatico Reserva Exclusiva Rum 700ML', '7455', 'Rum'], ['Grand Master XXX Rum 750ML', '1800', 'Rum'], ['Himalayan Honey Hunter 15yrs Rum 750ML', '5125', 'Rum'], ['Himalayan Honey Hunter 4yrs Rum 750ML', '2345', 'Rum'], ['Karda XXX Rum 750ML', '1150', 'Rum'], ['Khukri Coronation Rum 375ML', '2700', 'Rum'], ['Khukri Spiced Rum 750ML', '2450', 'Rum'], ['Khukri White Rum 750ML', '2450', 'Rum'], ['Khukri XXX Rum 750ML', '2080', 'Rum'], ['Malibu White Rum with Coconut 1L', '7350', 'Rum'], ['Mount Gay Eclipse Rum 700ML', '7490', 'Rum'], ['Old Monk The Legend Rum 750ML', '2500', 'Rum'], ['Old Monk XXX Rum 750ML', '2000', 'Rum'], ['Sailor Jerry Spiced 700ML', '7675', 'Rum']]\n"
     ]
    }
   ],
   "source": [
    "# For Rum \n",
    "scraping_liquors('https://cheers.com.np/liquor/category?s=na&c=rum&sc%5B%5D=imported-rum&sc%5B%5D=domestic-rum&pf=&pt=&p=1&node=child','Rum')"
   ]
  },
  {
   "cell_type": "code",
   "execution_count": 7,
   "metadata": {},
   "outputs": [
    {
     "name": "stdout",
     "output_type": "stream",
     "text": [
      "[['2 Share Natural Sweet Red 750ML', '1500', 'Wine'], ['2 Share Natural Sweet White 750ML', '1500', 'Wine'], ['4th Street Sweet Red 750ML', '2040', 'Wine'], ['4th Street Sweet White 750ML', '2040', 'Wine'], ['Akira Sweet Red 4L Box', '3850', 'Wine'], ['Akira Sweet Red 750ML', '835', 'Wine'], ['Akira Sweet White 4L Box', '3850', 'Wine'], ['Akira Sweet White 750ML', '835', 'Wine'], ['Amatia Vino Bianco White 750ML', '1875', 'Wine'], ['Amatia Vino Rose 750ML', '1875', 'Wine'], ['Amatia Vino Rosso Red 750ML', '1875', 'Wine'], ['Andre Brut Sparkling 750ML', '1950', 'Wine'], ['Animus Douro Vicente Faria DOC 750ML', '2350', 'Wine'], ['Banrock Station Cabernet Merlot 750ML', '2200', 'Wine'], ['Banrock Station Chardonnay 750ML', '2200', 'Wine'], ['Barefoot Sauvignon Blanc 750ML', '1745', 'Wine'], [\"Baron d'Archange Red Cuvee Prestige Corbieres 750ML\", '3400', 'Wine'], [\"Baron d'Archange White Cuvee Prestige Corbieres 750ML\", '3400', 'Wine'], [\"Baron d'Arignac Brut Sparkling 750ML\", '1850', 'Wine'], [\"Baron d'Arignac Dry Red 750ML\", '1550', 'Wine'], [\"Baron d'Arignac Dry White 750ML\", '1550', 'Wine'], [\"Baron d'Arignac Sweet Red 750ML\", '1550', 'Wine'], [\"Baron d'Arignac Sweet White 750ML\", '1550', 'Wine'], ['Big Master Apple Sweet White 4L Box', '3955', 'Wine'], ['Big Master Apple Sweet White 750ML', '870', 'Wine'], ['Big Master Sweet Red 4L Box', '3955', 'Wine'], ['Big Master Sweet Red 750ML', '870', 'Wine'], [\"Blason d'Aussieres Corbieres 750ML\", '2650', 'Wine'], ['Bordeaux Chateau Vieux Laroque 750ML', '2100', 'Wine'], ['Bottega Acino Chianti Classico DOCG 750ML', '4000', 'Wine'], ['Bottega Acino Chianti Classico Riserva DOCG 750ML', '5000', 'Wine'], ['Bottega Acino Chianti DOCG 750ML', '2500', 'Wine'], ['Bottega Amarone Della Valpolicella DOCG 750ML', '8500', 'Wine'], ['Bottega Bolgheri Rosso DOC 750ML', '4500', 'Wine'], ['Bottega Brunello di Montalcino DOCG 750ML', '9500', 'Wine'], ['Bottega Cabernet Sauvignon IGT Trevenezie 750ML', '2500', 'Wine'], ['Bottega Chardonnay IGT Trevenezie 750ML', '2500', 'Wine'], ['Bottega Diamond Pinot Nero Spumante Brut 750ML', '7200', 'Wine'], ['Bottega Glamour Birilli Gift Pack 2 x 200ML', '2600', 'Wine'], ['Bottega Glamour Birilli Gift Pack 4 x 200ML', '5200', 'Wine'], ['Bottega Gold Prosecco DOC Spumante 200ML', '1300', 'Wine'], ['Bottega Gold Prosecco DOC Spumante 750ML', '7200', 'Wine'], ['Bottega Merlot IGT Trevenezie 750ML', '2500', 'Wine'], ['Bottega Miabi Pinot Nero Spumante Brut 750ML', '8800', 'Wine'], ['Bottega Millesimato Spumante Brut 200ML', '1300', 'Wine'], ['Bottega Millesimato Spumante Brut 750ML', '2990', 'Wine'], ['Bottega Petalo Amore Manzoni Moscato Rose Dolce 750ML', '7200', 'Wine'], ['Bottega Petalo Amore Moscato Spumante Dolce 750ML', '2990', 'Wine'], ['Bottega Petalo Moscato Trevenezie 750ML', '2500', 'Wine'], ['Bottega Pinot Grigio Rose Delle Venezie DOC 750ML', '2500', 'Wine']]\n"
     ]
    }
   ],
   "source": [
    "# For Wine\n",
    "scraping_liquors('https://cheers.com.np/liquor/category?s=na&c=wine&sc%5B%5D=red-wine&sc%5B%5D=white-wine&sc%5B%5D=rose-wine&sc%5B%5D=sparkling-wine&sc%5B%5D=prosecco&sc%5B%5D=champagne&sc%5B%5D=flavoured-wine&sc%5B%5D=domestic-wine&pf=&pt=&p=1&node=child','Wine')"
   ]
  },
  {
   "cell_type": "code",
   "execution_count": 8,
   "metadata": {},
   "outputs": [
    {
     "data": {
      "text/plain": [
       "array(['Beer', 'Whisky', 'Vodka', 'Gin', 'Rum', 'Wine'], dtype=object)"
      ]
     },
     "execution_count": 8,
     "metadata": {},
     "output_type": "execute_result"
    }
   ],
   "source": [
    "main_df['Category'].unique()"
   ]
  },
  {
   "cell_type": "code",
   "execution_count": 9,
   "metadata": {},
   "outputs": [
    {
     "data": {
      "text/html": [
       "<div>\n",
       "<style scoped>\n",
       "    .dataframe tbody tr th:only-of-type {\n",
       "        vertical-align: middle;\n",
       "    }\n",
       "\n",
       "    .dataframe tbody tr th {\n",
       "        vertical-align: top;\n",
       "    }\n",
       "\n",
       "    .dataframe thead th {\n",
       "        text-align: right;\n",
       "    }\n",
       "</style>\n",
       "<table border=\"1\" class=\"dataframe\">\n",
       "  <thead>\n",
       "    <tr style=\"text-align: right;\">\n",
       "      <th></th>\n",
       "      <th>Name</th>\n",
       "      <th>Price</th>\n",
       "      <th>Category</th>\n",
       "    </tr>\n",
       "  </thead>\n",
       "  <tbody>\n",
       "    <tr>\n",
       "      <th>0</th>\n",
       "      <td>Arna 6.4 Special Edition 330ML x 24 Bottles</td>\n",
       "      <td>3960</td>\n",
       "      <td>Beer</td>\n",
       "    </tr>\n",
       "    <tr>\n",
       "      <th>1</th>\n",
       "      <td>Arna 6.4 Special Edition 650ML x 12 Bottles</td>\n",
       "      <td>3840</td>\n",
       "      <td>Beer</td>\n",
       "    </tr>\n",
       "    <tr>\n",
       "      <th>2</th>\n",
       "      <td>Arna 6.4 Special Edition Bottle 330ML</td>\n",
       "      <td>175</td>\n",
       "      <td>Beer</td>\n",
       "    </tr>\n",
       "    <tr>\n",
       "      <th>3</th>\n",
       "      <td>Arna 6.4 Special Edition Bottle 650ML</td>\n",
       "      <td>340</td>\n",
       "      <td>Beer</td>\n",
       "    </tr>\n",
       "    <tr>\n",
       "      <th>4</th>\n",
       "      <td>Arna 8 Bottle 330ML</td>\n",
       "      <td>180</td>\n",
       "      <td>Beer</td>\n",
       "    </tr>\n",
       "    <tr>\n",
       "      <th>...</th>\n",
       "      <td>...</td>\n",
       "      <td>...</td>\n",
       "      <td>...</td>\n",
       "    </tr>\n",
       "    <tr>\n",
       "      <th>45</th>\n",
       "      <td>Bottega Millesimato Spumante Brut 750ML</td>\n",
       "      <td>2990</td>\n",
       "      <td>Wine</td>\n",
       "    </tr>\n",
       "    <tr>\n",
       "      <th>46</th>\n",
       "      <td>Bottega Petalo Amore Manzoni Moscato Rose Dolc...</td>\n",
       "      <td>7200</td>\n",
       "      <td>Wine</td>\n",
       "    </tr>\n",
       "    <tr>\n",
       "      <th>47</th>\n",
       "      <td>Bottega Petalo Amore Moscato Spumante Dolce 750ML</td>\n",
       "      <td>2990</td>\n",
       "      <td>Wine</td>\n",
       "    </tr>\n",
       "    <tr>\n",
       "      <th>48</th>\n",
       "      <td>Bottega Petalo Moscato Trevenezie 750ML</td>\n",
       "      <td>2500</td>\n",
       "      <td>Wine</td>\n",
       "    </tr>\n",
       "    <tr>\n",
       "      <th>49</th>\n",
       "      <td>Bottega Pinot Grigio Rose Delle Venezie DOC 750ML</td>\n",
       "      <td>2500</td>\n",
       "      <td>Wine</td>\n",
       "    </tr>\n",
       "  </tbody>\n",
       "</table>\n",
       "<p>263 rows × 3 columns</p>\n",
       "</div>"
      ],
      "text/plain": [
       "                                                 Name  Price Category\n",
       "0         Arna 6.4 Special Edition 330ML x 24 Bottles   3960     Beer\n",
       "1         Arna 6.4 Special Edition 650ML x 12 Bottles   3840     Beer\n",
       "2               Arna 6.4 Special Edition Bottle 330ML    175     Beer\n",
       "3               Arna 6.4 Special Edition Bottle 650ML    340     Beer\n",
       "4                                 Arna 8 Bottle 330ML    180     Beer\n",
       "..                                                ...    ...      ...\n",
       "45            Bottega Millesimato Spumante Brut 750ML   2990     Wine\n",
       "46  Bottega Petalo Amore Manzoni Moscato Rose Dolc...   7200     Wine\n",
       "47  Bottega Petalo Amore Moscato Spumante Dolce 750ML   2990     Wine\n",
       "48            Bottega Petalo Moscato Trevenezie 750ML   2500     Wine\n",
       "49  Bottega Pinot Grigio Rose Delle Venezie DOC 750ML   2500     Wine\n",
       "\n",
       "[263 rows x 3 columns]"
      ]
     },
     "execution_count": 9,
     "metadata": {},
     "output_type": "execute_result"
    }
   ],
   "source": [
    "# Converting Price into integer data type\n",
    "main_df['Price']=main_df['Price'].astype('int')\n",
    "main_df"
   ]
  },
  {
   "cell_type": "code",
   "execution_count": 10,
   "metadata": {},
   "outputs": [],
   "source": [
    "# Exporting Dataset\n",
    "main_df.to_excel(\"Liquor_data.xlsx\",index=False)"
   ]
  },
  {
   "cell_type": "code",
   "execution_count": null,
   "metadata": {},
   "outputs": [],
   "source": []
  }
 ],
 "metadata": {
  "kernelspec": {
   "display_name": "Python 3",
   "language": "python",
   "name": "python3"
  },
  "language_info": {
   "codemirror_mode": {
    "name": "ipython",
    "version": 3
   },
   "file_extension": ".py",
   "mimetype": "text/x-python",
   "name": "python",
   "nbconvert_exporter": "python",
   "pygments_lexer": "ipython3",
   "version": "3.12.0"
  }
 },
 "nbformat": 4,
 "nbformat_minor": 2
}
