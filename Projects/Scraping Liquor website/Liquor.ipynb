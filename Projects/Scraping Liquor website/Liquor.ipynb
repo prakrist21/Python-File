{
 "cells": [
  {
   "cell_type": "code",
   "execution_count": 1,
   "metadata": {},
   "outputs": [],
   "source": [
    "import pandas as pd \n",
    "import seaborn as sns\n",
    "import requests \n",
    "from bs4 import BeautifulSoup\n",
    "import matplotlib.pyplot as plt"
   ]
  },
  {
   "cell_type": "code",
   "execution_count": 2,
   "metadata": {},
   "outputs": [],
   "source": [
    "main_df=None"
   ]
  },
  {
   "cell_type": "code",
   "execution_count": 3,
   "metadata": {},
   "outputs": [],
   "source": [
    "def scraping_liquors(url,type):\n",
    "# This function Scrapes cheers.com.np website and stores the required data into a dataset\n",
    "    global temp_df\n",
    "    global main_df\n",
    "    temp_df=None\n",
    "    page=requests.get(url)\n",
    "    soup=BeautifulSoup(page.text,'html')\n",
    "    name=soup.find_all(\"h5\",class_=\"title primary-color\")\n",
    "    beer_name=[x.text.strip() for x in name]\n",
    "    prices=soup.find_all(\"h4\",class_=\"price\")\n",
    "    price=[x.text.strip() for x in prices]\n",
    "    updated_price=[]\n",
    "    for x in price:\n",
    "        value = x.replace(\"Rs.\\xa0\", \"\").replace(\",\", \"\")\n",
    "        updated_price.append(value)\n",
    "    category_name=[type]*len(updated_price)\n",
    "    temp_df=pd.DataFrame(columns=['Name','Price','Category'])\n",
    "    main_lst = [[a, b, c] for a, b, c in zip(beer_name, updated_price, category_name)]\n",
    "    for m in main_lst:\n",
    "        l=len(temp_df)\n",
    "        temp_df.loc[l]=m\n",
    "    if main_df is None:\n",
    "        main_df=temp_df.copy()\n",
    "    else:\n",
    "        main_df=pd.concat([main_df,temp_df],axis=0)\n",
    "\n",
    "\n",
    "# For Beer\n",
    "scraping_liquors('https://cheers.com.np/liquor/category?s=na&c=beer&sc%5B%5D=imported-beer&sc%5B%5D=domestic-beer&sc%5B%5D=beer-case&pf=&pt=&p=1&node=child','Beer')\n",
    "\n",
    "# For Whisky\n",
    "scraping_liquors('https://cheers.com.np/liquor/category?s=na&c=whisky&sc%5B%5D=regular-whisky&sc%5B%5D=premium-whisky&sc%5B%5D=american-bourbon-whisky&sc%5B%5D=single-malt-whisky&sc%5B%5D=domestic-whisky&pf=&pt=&p=1&node=child','Whisky')\n",
    "\n",
    "    \n"
   ]
  },
  {
   "cell_type": "code",
   "execution_count": 4,
   "metadata": {},
   "outputs": [],
   "source": [
    "# For Vodka\n",
    "scraping_liquors('https://cheers.com.np/liquor/category?s=na&c=vodka&sc%5B%5D=imported-vodka&sc%5B%5D=domestic-vodka&pf=&pt=&p=1&node=child','Vodka')"
   ]
  },
  {
   "cell_type": "code",
   "execution_count": 5,
   "metadata": {},
   "outputs": [],
   "source": [
    "#For Gin\n",
    "scraping_liquors('https://cheers.com.np/liquor/category?s=na&c=gin&sc%5B%5D=imported-gin&sc%5B%5D=domestic-gin&pf=&pt=&p=1&node=child','Gin')"
   ]
  },
  {
   "cell_type": "code",
   "execution_count": 6,
   "metadata": {},
   "outputs": [],
   "source": [
    "# For Rum \n",
    "scraping_liquors('https://cheers.com.np/liquor/category?s=na&c=rum&sc%5B%5D=imported-rum&sc%5B%5D=domestic-rum&pf=&pt=&p=1&node=child','Rum')"
   ]
  },
  {
   "cell_type": "code",
   "execution_count": 7,
   "metadata": {},
   "outputs": [],
   "source": [
    "# For Wine\n",
    "scraping_liquors('https://cheers.com.np/liquor/category?s=na&c=wine&sc%5B%5D=red-wine&sc%5B%5D=white-wine&sc%5B%5D=rose-wine&sc%5B%5D=sparkling-wine&sc%5B%5D=prosecco&sc%5B%5D=champagne&sc%5B%5D=flavoured-wine&sc%5B%5D=domestic-wine&pf=&pt=&p=1&node=child','Wine')"
   ]
  },
  {
   "cell_type": "code",
   "execution_count": 8,
   "metadata": {},
   "outputs": [
    {
     "data": {
      "text/plain": [
       "array(['Beer', 'Whisky', 'Vodka', 'Gin', 'Rum', 'Wine'], dtype=object)"
      ]
     },
     "execution_count": 8,
     "metadata": {},
     "output_type": "execute_result"
    }
   ],
   "source": [
    "main_df['Category'].unique()"
   ]
  },
  {
   "cell_type": "code",
   "execution_count": 9,
   "metadata": {},
   "outputs": [
    {
     "data": {
      "text/html": [
       "<div>\n",
       "<style scoped>\n",
       "    .dataframe tbody tr th:only-of-type {\n",
       "        vertical-align: middle;\n",
       "    }\n",
       "\n",
       "    .dataframe tbody tr th {\n",
       "        vertical-align: top;\n",
       "    }\n",
       "\n",
       "    .dataframe thead th {\n",
       "        text-align: right;\n",
       "    }\n",
       "</style>\n",
       "<table border=\"1\" class=\"dataframe\">\n",
       "  <thead>\n",
       "    <tr style=\"text-align: right;\">\n",
       "      <th></th>\n",
       "      <th>Name</th>\n",
       "      <th>Price</th>\n",
       "      <th>Category</th>\n",
       "    </tr>\n",
       "  </thead>\n",
       "  <tbody>\n",
       "    <tr>\n",
       "      <th>0</th>\n",
       "      <td>Arna 6.4 Special Edition 330ML x 24 Bottles</td>\n",
       "      <td>3960</td>\n",
       "      <td>Beer</td>\n",
       "    </tr>\n",
       "    <tr>\n",
       "      <th>1</th>\n",
       "      <td>Arna 6.4 Special Edition 650ML x 12 Bottles</td>\n",
       "      <td>3840</td>\n",
       "      <td>Beer</td>\n",
       "    </tr>\n",
       "    <tr>\n",
       "      <th>2</th>\n",
       "      <td>Arna 6.4 Special Edition Bottle 330ML</td>\n",
       "      <td>175</td>\n",
       "      <td>Beer</td>\n",
       "    </tr>\n",
       "    <tr>\n",
       "      <th>3</th>\n",
       "      <td>Arna 6.4 Special Edition Bottle 650ML</td>\n",
       "      <td>340</td>\n",
       "      <td>Beer</td>\n",
       "    </tr>\n",
       "    <tr>\n",
       "      <th>4</th>\n",
       "      <td>Arna 8 Bottle 330ML</td>\n",
       "      <td>180</td>\n",
       "      <td>Beer</td>\n",
       "    </tr>\n",
       "    <tr>\n",
       "      <th>...</th>\n",
       "      <td>...</td>\n",
       "      <td>...</td>\n",
       "      <td>...</td>\n",
       "    </tr>\n",
       "    <tr>\n",
       "      <th>45</th>\n",
       "      <td>Bottega Millesimato Spumante Brut 750ML</td>\n",
       "      <td>2990</td>\n",
       "      <td>Wine</td>\n",
       "    </tr>\n",
       "    <tr>\n",
       "      <th>46</th>\n",
       "      <td>Bottega Petalo Amore Manzoni Moscato Rose Dolc...</td>\n",
       "      <td>7200</td>\n",
       "      <td>Wine</td>\n",
       "    </tr>\n",
       "    <tr>\n",
       "      <th>47</th>\n",
       "      <td>Bottega Petalo Amore Moscato Spumante Dolce 750ML</td>\n",
       "      <td>2990</td>\n",
       "      <td>Wine</td>\n",
       "    </tr>\n",
       "    <tr>\n",
       "      <th>48</th>\n",
       "      <td>Bottega Petalo Moscato Trevenezie 750ML</td>\n",
       "      <td>2500</td>\n",
       "      <td>Wine</td>\n",
       "    </tr>\n",
       "    <tr>\n",
       "      <th>49</th>\n",
       "      <td>Bottega Pinot Grigio Rose Delle Venezie DOC 750ML</td>\n",
       "      <td>2500</td>\n",
       "      <td>Wine</td>\n",
       "    </tr>\n",
       "  </tbody>\n",
       "</table>\n",
       "<p>263 rows × 3 columns</p>\n",
       "</div>"
      ],
      "text/plain": [
       "                                                 Name  Price Category\n",
       "0         Arna 6.4 Special Edition 330ML x 24 Bottles   3960     Beer\n",
       "1         Arna 6.4 Special Edition 650ML x 12 Bottles   3840     Beer\n",
       "2               Arna 6.4 Special Edition Bottle 330ML    175     Beer\n",
       "3               Arna 6.4 Special Edition Bottle 650ML    340     Beer\n",
       "4                                 Arna 8 Bottle 330ML    180     Beer\n",
       "..                                                ...    ...      ...\n",
       "45            Bottega Millesimato Spumante Brut 750ML   2990     Wine\n",
       "46  Bottega Petalo Amore Manzoni Moscato Rose Dolc...   7200     Wine\n",
       "47  Bottega Petalo Amore Moscato Spumante Dolce 750ML   2990     Wine\n",
       "48            Bottega Petalo Moscato Trevenezie 750ML   2500     Wine\n",
       "49  Bottega Pinot Grigio Rose Delle Venezie DOC 750ML   2500     Wine\n",
       "\n",
       "[263 rows x 3 columns]"
      ]
     },
     "execution_count": 9,
     "metadata": {},
     "output_type": "execute_result"
    }
   ],
   "source": [
    "# Converting Price into integer data type\n",
    "main_df['Price']=main_df['Price'].astype('int')\n",
    "main_df"
   ]
  },
  {
   "cell_type": "code",
   "execution_count": 10,
   "metadata": {},
   "outputs": [],
   "source": [
    "# Exporting Dataset\n",
    "main_df.to_excel(\"Liquor_data.xlsx\",index=False)"
   ]
  },
  {
   "cell_type": "code",
   "execution_count": null,
   "metadata": {},
   "outputs": [],
   "source": []
  }
 ],
 "metadata": {
  "kernelspec": {
   "display_name": "Python 3",
   "language": "python",
   "name": "python3"
  },
  "language_info": {
   "codemirror_mode": {
    "name": "ipython",
    "version": 3
   },
   "file_extension": ".py",
   "mimetype": "text/x-python",
   "name": "python",
   "nbconvert_exporter": "python",
   "pygments_lexer": "ipython3",
   "version": "3.12.0"
  }
 },
 "nbformat": 4,
 "nbformat_minor": 2
}
